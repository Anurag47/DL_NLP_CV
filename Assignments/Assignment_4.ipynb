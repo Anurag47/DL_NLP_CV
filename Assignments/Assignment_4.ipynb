{
 "cells": [
  {
   "cell_type": "markdown",
   "metadata": {},
   "source": [
    "1.1 Write a Python Program(with class concepts) to find the area of the triangle using the below formula.\n",
    "area = (s*(s-a)*(s-b)*(s-c)) ** 0.5\n",
    "Function to take the length of the sides of triangle from user should be defined in the parent class and function to calculate the area should be defined in subclass."
   ]
  },
  {
   "cell_type": "code",
   "execution_count": 73,
   "metadata": {},
   "outputs": [
    {
     "name": "stdout",
     "output_type": "stream",
     "text": [
      "Enter a :4\n",
      "Enter b :5\n",
      "Enter c :6\n",
      "9.921567416492215\n"
     ]
    }
   ],
   "source": [
    "class triangle:\n",
    "    def __init__(self):\n",
    "        self.a=0\n",
    "        self.b=0\n",
    "        self.c=0\n",
    "        self.s=0\n",
    "        \n",
    "    def value(self):\n",
    "        self.a=int(input('Enter a :'))\n",
    "        self.b=int(input('Enter b :'))\n",
    "        self.c=int(input('Enter c :'))\n",
    "        self.s=(self.a+self.b+self.c)/2\n",
    "\n",
    "class calc(triangle):\n",
    "    def __init__(self):\n",
    "        triangle.__init__(self)\n",
    "    def area(self):\n",
    "        super().value()\n",
    "        ar=(self.s*(self.s-self.a)*(self.s-self.b)*(self.s-self.c))**0.5\n",
    "        return ar\n",
    "    \n",
    "c=calc()\n",
    "print(c.area())   "
   ]
  },
  {
   "cell_type": "raw",
   "metadata": {},
   "source": [
    "1.2 Write a function filter_long_words() that takes a list of words and an integer n and returns the list\n",
    "of words that are longer than n."
   ]
  },
  {
   "cell_type": "code",
   "execution_count": 66,
   "metadata": {},
   "outputs": [
    {
     "name": "stdout",
     "output_type": "stream",
     "text": [
      "['abcde', 'aaaaa', 'dasdd']\n"
     ]
    }
   ],
   "source": [
    "def filter_long_words(l,n):\n",
    "    l1=[]\n",
    "    for i in l:\n",
    "        if n < len(i):\n",
    "            l1.append(i)\n",
    "        else:\n",
    "            continue\n",
    "    return l1\n",
    "        \n",
    "l=['abc','abcd','abcde','aaaaa','dasdd']\n",
    "n=4\n",
    "print(filter_long_words(l,n))"
   ]
  },
  {
   "cell_type": "raw",
   "metadata": {},
   "source": [
    "2.1 Write a Python program using function concept that maps list of words into a list of integers representing the lengths of the corresponding words.\n",
    "Hint: If a list [ ab,cde,erty] is passed on to the python function output should come as [2,3,4]\n",
    "Here 2,3 and 4 are the lengths of the words in the list."
   ]
  },
  {
   "cell_type": "code",
   "execution_count": 54,
   "metadata": {},
   "outputs": [
    {
     "name": "stdout",
     "output_type": "stream",
     "text": [
      "[4, 4, 4]\n"
     ]
    }
   ],
   "source": [
    "def length(l):\n",
    "    k=list(map(len,l))\n",
    "    return k\n",
    "\n",
    "l=['jjjj','ffff','aaaa']\n",
    "print(length(l))"
   ]
  },
  {
   "cell_type": "raw",
   "metadata": {},
   "source": [
    "2.2 Write a Python function which takes a character (i.e. a string of length 1) and returns True if it is\n",
    "a vowel, False otherwise."
   ]
  },
  {
   "cell_type": "code",
   "execution_count": 61,
   "metadata": {},
   "outputs": [
    {
     "name": "stdout",
     "output_type": "stream",
     "text": [
      "False\n",
      "True\n"
     ]
    }
   ],
   "source": [
    "def vowels(c):\n",
    "    if c in 'aeiou':\n",
    "        return 'True'\n",
    "    else:\n",
    "        return 'False'\n",
    "\n",
    "print(vowels('b'))\n",
    "print(vowels('a'))"
   ]
  }
 ],
 "metadata": {
  "kernelspec": {
   "display_name": "Python 3",
   "language": "python",
   "name": "python3"
  },
  "language_info": {
   "codemirror_mode": {
    "name": "ipython",
    "version": 3
   },
   "file_extension": ".py",
   "mimetype": "text/x-python",
   "name": "python",
   "nbconvert_exporter": "python",
   "pygments_lexer": "ipython3",
   "version": "3.7.4"
  }
 },
 "nbformat": 4,
 "nbformat_minor": 2
}
